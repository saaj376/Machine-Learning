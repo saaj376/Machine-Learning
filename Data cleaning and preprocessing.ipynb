{
 "cells": [
  {
   "cell_type": "code",
   "execution_count": 8,
   "metadata": {},
   "outputs": [
    {
     "data": {
      "text/plain": [
       "\"step1: import the necessary library'\\nstep2: read the dataset\\nstep3: sanity check of data\\nstep4: exploratory data analysis\\nstep5: missing values treatment\\nstep6: outliers treatment\\nstep7: duplicates and garbage value treatments\\nstep8: normalization\\nstep9: encoding of data\\n\""
      ]
     },
     "execution_count": 8,
     "metadata": {},
     "output_type": "execute_result"
    }
   ],
   "source": [
    "#steps of preprocessing data\n",
    "'''step1: import the necessary library'\n",
    "step2: read the dataset\n",
    "step3: sanity check of data\n",
    "step4: exploratory data analysis\n",
    "step5: missing values treatment\n",
    "step6: outliers treatment\n",
    "step7: duplicates and garbage value treatments\n",
    "step8: normalization\n",
    "step9: encoding of data\n",
    "'''"
   ]
  },
  {
   "cell_type": "markdown",
   "metadata": {},
   "source": [
    "Step1: Importing the necessary libraries"
   ]
  },
  {
   "cell_type": "code",
   "execution_count": null,
   "metadata": {},
   "outputs": [],
   "source": [
    "import pandas as pd\n",
    "import numpy as np\n",
    "import matplotlib.pyplot as plt\n"
   ]
  },
  {
   "cell_type": "markdown",
   "metadata": {},
   "source": [
    "Step2: Reading the dataset"
   ]
  },
  {
   "cell_type": "code",
   "execution_count": null,
   "metadata": {},
   "outputs": [],
   "source": []
  }
 ],
 "metadata": {
  "kernelspec": {
   "display_name": "Python 3",
   "language": "python",
   "name": "python3"
  },
  "language_info": {
   "codemirror_mode": {
    "name": "ipython",
    "version": 3
   },
   "file_extension": ".py",
   "mimetype": "text/x-python",
   "name": "python",
   "nbconvert_exporter": "python",
   "pygments_lexer": "ipython3",
   "version": "3.9.13"
  }
 },
 "nbformat": 4,
 "nbformat_minor": 4
}
